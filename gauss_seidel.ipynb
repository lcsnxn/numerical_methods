{
 "cells": [
  {
   "cell_type": "markdown",
   "metadata": {},
   "source": [
    "# Gauss-Seidel Method"
   ]
  },
  {
   "cell_type": "markdown",
   "metadata": {},
   "source": [
    "## Preliminaries\n",
    "\n",
    "First, some important definitions and results.\n",
    "\n",
    "### Definition.\n",
    "Let $A$ be some matrix. The _Frobenius norm_ $\\|A\\|$ is defined as\n",
    "$$\\|A\\| = \\sqrt{\\text{tr}(A^\\dagger A)},$$\n",
    "where $A^\\dagger$ is the conjugate transpose of $A$.\n",
    "\n",
    "### Proposition.\n",
    "Let $A$ be a square matrix. If $\\|A\\| < 1$, then\n",
    "$$\\sum_{k = 0}^\\infty A^k = (I - A)^{-1},$$\n",
    "where $I$ is the identity matrix.\n",
    "\n",
    "_Proof_. Let $S = \\sum_{k = 0}^\\infty A^k$ and let $S_k = I + A + ... + A^k$ be the kth partial sum of the infinite series $S$. We have that\n",
    "$$(I - A)S_k = I + A + ... + A^k - A - A^2 - ... - A^{k+1} = I - A^{k+1}.$$\n",
    "Likewise,\n",
    "$$S_k(I - A) = I + A + ... + A^k - A - A^2 - ... - A^{k+1} = I - A^{k+1}.$$\n",
    "Since the Frobenius norm is submultiplicative, we have that\n",
    "$$\\|A^{k+1}\\| < \\|A\\|^{k+1}.$$\n",
    "Since $\\|A\\| < 1$, we have that $0 \\le \\|A\\|^{k+1} << 1$ for $k \\to \\infty$. Therefore, $\\|A^{k+1}\\| \\to 0$ for $k \\to \\infty$. Thus, taking the limit $k \\to \\infty$,\n",
    "$S(I -A) = I$ and $(I - A)S = I$, which means that $S = (I - A)^{-1}$."
   ]
  },
  {
   "cell_type": "markdown",
   "metadata": {},
   "source": [
    "## The Gauss-Seidel Method\n",
    "\n",
    "Let's say we want to solve the system of $n$ linear equations with $n$ unknowns\n",
    "\n",
    "$$\\begin{cases} a_{11}x_1 + a_{12}x_2 + ... + a_{1n}x_n = b_1 \\\\ a_{21}x_1 + a_{22}x_2 + ... + a_{2n}x_n = b_2 \\\\ \\vdots \\\\ a_{n1}x_1 + a_{n2}x_2 + ... + a_{nn}x_n = b_n\\end{cases}$$\n",
    "\n",
    "which can be written as\n",
    "\n",
    "$$Ax = b,$$\n",
    "\n",
    "where\n",
    "\n",
    "$$A = \\left(\\begin{array}{c} a_{11} & a_{12} & ... & a_{1n} \\\\ a_{21} & a_{22} & ... & a_{2n} \\\\ \\vdots \\\\ a_{n1} & a_{n2} & ... & a_{nn} \\end{array}\\right)$$\n",
    "\n",
    "is a $n\\times n$ matrix, \n",
    "\n",
    "$$x = \\left(\\begin{array}{c} x_1 \\\\ x_2 \\\\ \\vdots \\\\ x_n \\end{array}\\right)$$\n",
    "\n",
    "is a vector of unknowns and\n",
    "\n",
    "$$b = \\left(\\begin{array}{c} b_1 \\\\ b_2 \\\\ \\vdots \\\\ b_n \\end{array}\\right)$$\n",
    "\n",
    "is a vector of constants. \n",
    "\n",
    "If $A$ is invertible and if we are able to find its inverse $A^{-1}$, we can right away solve the system by computing\n",
    "\n",
    "$$x = A^{-1}b.$$\n",
    "\n",
    "However, finding the exact inverse $A^{-1}$ is often very hard. Let's then try to find a good approximation of $A^{-1}$. Let $M = I - A$. Then, $A = I - M$ and we have that\n",
    "\n",
    "$$Ax = (I - M)x = b \\Leftrightarrow x = (I - M)^{-1}b.$$\n",
    "\n",
    "But we know that\n",
    "\n",
    "$$(I - M)^{-1} = \\lim_{k \\to \\infty} \\sum_{i = 0}^k M^i.$$\n",
    "\n",
    "Thus, we have a nice formula to write our approximation. Since\n",
    "\n",
    "$$x = \\left(I + M + M^2 + ...\\right)b$$\n",
    "\n",
    "we can make the approximation\n",
    "\n",
    "$$x \\approx \\left(I + M + M^2 + ... + M^k\\right)b.$$\n",
    "\n",
    "The bigger the number $k$ is, the better."
   ]
  },
  {
   "cell_type": "markdown",
   "metadata": {},
   "source": [
    "But this is not the Gauss-Seidel method of solving a system of linear equations yet. To get there, we need to split the matrix $A$ into two parts:\n",
    "\n",
    "$$A = B + C,$$\n",
    "\n",
    "where $B$ is a matrix that is easy to invert and $C$ is a matrix that is hard (or impossible) to invert. In the Jacobi method, $B$ is the diagonal of $A$ and $C$ is the rest, i.e.,\n",
    "\n",
    "$$B = \\left(\\begin{array}{c} a_{11} & 0 & ... & 0 \\\\ 0 & a_{22} & ... & 0 \\\\ \\vdots \\\\ 0 & 0 & ... & a_{nn} \\end{array}\\right), \\ C = \\left(\\begin{array}{c} 0 & a_{12} & ... & a_{1n} \\\\ a_{21} & 0 & ... & a_{2n} \\\\ \\vdots \\\\ a_{n1} & a_{n2} & ... & 0 \\end{array}\\right)$$\n",
    "\n",
    "while in the Gauss-Seidel method, $B$ is the diagonal and everything below the diagonal and $C$ is everything above the diagonal, i.e.,\n",
    "\n",
    "$$B = \\left(\\begin{array}{c} a_{11} & 0 & ... & 0 \\\\ a_{21} & a_{22} & ... & 0 \\\\ \\vdots \\\\ a_{n1} & a_{n2} & ... & a_{nn} \\end{array}\\right), \\ C = \\left(\\begin{array}{c} 0 & a_{12} & ... & a_{1n} \\\\ 0 & 0 & ... & a_{2n} \\\\ \\vdots \\\\ 0 & 0 & ... & 0 \\end{array}\\right).$$\n",
    "\n",
    "Using this splitting, we have that\n",
    "\n",
    "$$Ax = (B + C)x = b.$$\n",
    "\n",
    "Since $B$ is easy to invert, we multiply both sides by $B^{-1}$ to get\n",
    "\n",
    "$$B^{-1}(B + C)x = B^{-1}b \\Leftrightarrow (I + B^{-1}C)x = B^{-1}b.$$\n",
    "\n",
    "Let $M = -B^{-1}C$ and $b' = B^{-1}b.$ We have that $(I - M)x = b'$, and thus\n",
    "\n",
    "$$x \\approx \\left(I + M + M^2 + ... + M^k\\right)b' = \\left(I - B^{-1}C + (-B^{-1}C)^2 + ... + (-B^{-1}C)^k\\right)B^{-1}b.$$\n",
    "\n",
    "Therefore, by breaking the matrix $A$ into $A = B + C$, we can approximate the solution of the system by\n",
    "\n",
    "$$x \\approx \\left(I - B^{-1}C + (-B^{-1}C)^2 + ... + (-B^{-1}C)^k\\right)B^{-1}b,$$\n",
    "\n",
    "for $k$ large enough."
   ]
  },
  {
   "cell_type": "markdown",
   "metadata": {},
   "source": [
    "This formula gives us an iterative procedure to compute the solution of the system. The intuition is to add a term of the sum at each iteration. That is, we start the algorithm with the solution\n",
    "\n",
    "$$x^{(0)} = (I) b' = B^{-1}b.$$\n",
    "\n",
    "In the next step, the solution is\n",
    "\n",
    "$$x^{(1)} = (I + M)b' = (I + M) x^{(0)} = (I - B^{-1}C)x^{(0)}.$$\n",
    "\n",
    "In the next step, the solution is\n",
    "\n",
    "$$x^{(2)} = (I + M + M^2)b' = M(I + M)b' + b' = Mx^{(1)} + b' = -B^{-1}Cx^{(1)} + B^{-1}b.$$\n",
    "\n",
    "And so on. It is easy to see that there is a recursive formula to compute the next iteration:\n",
    "\n",
    "$$x^{(k)} = -B^{-1}Cx^{(k-1)} + B^{-1}b.$$\n",
    "\n",
    "Explicitly, in terms of the matrix elements, we have, for the Jacobi method,\n",
    "\n",
    "$$x_i^{(k)} = \\sum_{j = 1}^n\\sum_{l = 1}^n (-B^{-1}_{ij}C_{jl}x^{(k-1)}_l) + \\sum_{j = 1}^nB^{-1}_{ij}b_j \\\\ = \\sum_{j = 1}^n\\sum_{l = 1}^n (-\\frac{1}{a_{ij}}\\delta_{ij}C_{jl}x^{(k-1)}_l) + \\sum_{j = 1}^n\\frac{1}{a_{ij}}\\delta_{ij}b_j \\\\ = \\frac{1}{a_{ii}}\\sum_{\\substack{l = 1 \\\\ l \\neq i}}^n (-a_{il}x^{(k-1)}_l) + \\frac{1}{a_{ii}}b_i,$$\n",
    "\n",
    "that is,\n",
    "\n",
    "$$x_i^{(k)} = \\frac{1}{a_{ii}}\\left(\\sum_{\\substack{l = 1 \\\\ l \\neq i}}^n (-a_{il}x^{(k-1)}_l) + b_i\\right).$$\n",
    "\n",
    "Likewise, for the Gauss-Seidel method, it can be shown that\n",
    "\n",
    "$$x_i^{(k)} = \\frac{1}{a_{ii}}\\left(-\\sum_{j = 1}^{i - 1} a_{ij}x^{(k)}_j - \\sum_{j = i + 1}^{n} a_{ij}x^{(k-1)}_j + b_i\\right).$$\n",
    "\n",
    "Convergence to the true solution is guaranteed by the convergence of the series $\\sum_{k=0}^\\infty A^k$. A stopping criteria for the iterations can be established using an error threshold. When the difference between subsequent iterations are smaller than an error threshold $\\epsilon$, we can stop and accept the last solution as the true one."
   ]
  },
  {
   "cell_type": "markdown",
   "metadata": {},
   "source": [
    "# Code and Numerical Examples"
   ]
  },
  {
   "cell_type": "code",
   "execution_count": 99,
   "metadata": {},
   "outputs": [],
   "source": [
    "import warnings\n",
    "\n",
    "from typing import List, Literal\n",
    "\n",
    "\n",
    "def solve_linear_system(\n",
    "    A: List[List[float]], \n",
    "    b: List[float],\n",
    "    method: Literal[\"jacobi\", \"gauss-seidel\"] = \"gauss-seidel\",\n",
    "    tol: float = 1e-5,\n",
    "    n_iter: int = 10000, \n",
    ") -> List[float]:\n",
    "    \"\"\"\n",
    "    Solve a system of linear equations defined by the square matrix A and the\n",
    "    vector of constants b using either the Jacobi or the Gauss-Seidel method.\n",
    "    \n",
    "    Args:\n",
    "        A: n x n matrix of coefficients.\n",
    "        b: n x 1 vector of constants.\n",
    "        method: Iterative method. Choose either `jacobi` or `gauss-seidel`. \n",
    "        tol: Maximum error of the estimative.\n",
    "        n_iter: Maximum number of iterations.\n",
    "    \"\"\"\n",
    "    \n",
    "    n = len(b)\n",
    "    x_sol = b.copy()\n",
    "    inv_diag = [1.0 / A[i][i] for i in range(n)]\n",
    "    converged = False\n",
    "    \n",
    "    if method == \"jacobi\":\n",
    "        x_aux = x_sol.copy()\n",
    "        for _ in range(n_iter):\n",
    "            for i in range(n):\n",
    "                aux = sum(-A[i][j] * x_aux[j] for j in range(n) if j != i)\n",
    "                x_sol[i] = inv_diag[i] * (aux + b[i])\n",
    "                \n",
    "            if all(abs(x_sol[i] - x_aux[i]) < tol for i in range(n)):\n",
    "                converged = True\n",
    "                break  \n",
    "            \n",
    "            x_aux = x_sol.copy()\n",
    "    \n",
    "    elif method == \"gauss-seidel\":\n",
    "        for _ in range(n_iter):\n",
    "            x_aux = x_sol.copy()\n",
    "            for i in range(n):\n",
    "                aux = sum(-A[i][j] * x_sol[j] for j in range(i))\n",
    "                aux += sum(-A[i][j] * x_sol[j] for j in range(i + 1, n))\n",
    "                x_sol[i] = inv_diag[i] * (aux + b[i])\n",
    "                \n",
    "            if all(abs(x_sol[i] - x_aux[i]) < tol for i in range(n)):\n",
    "                converged = True\n",
    "                break\n",
    "    \n",
    "    else:\n",
    "        raise ValueError(\n",
    "            \"Method not available.\" \n",
    "            \" Available ones are `jacobi`, `gauss-seidel`.\"\n",
    "        )\n",
    "        \n",
    "    if not converged:\n",
    "        warnings.warn(\n",
    "            f\"Method {method} did not converge in the tolerance {tol}.\"\n",
    "            \" Returning the result of the last iteration.\"\n",
    "        )\n",
    "    \n",
    "    return x_sol"
   ]
  },
  {
   "cell_type": "markdown",
   "metadata": {},
   "source": [
    "## Example"
   ]
  },
  {
   "cell_type": "code",
   "execution_count": 100,
   "metadata": {},
   "outputs": [],
   "source": [
    "A = [[3, 2, 0], [1, -1, 0], [0, 5, 1]]\n",
    "b = [2, 4, -1]"
   ]
  },
  {
   "cell_type": "markdown",
   "metadata": {},
   "source": [
    "Comparing the solution with the scipy.linalg one, which uses the LAPACK package and is highly optimized. Let's also see which one is faster."
   ]
  },
  {
   "cell_type": "code",
   "execution_count": 101,
   "metadata": {},
   "outputs": [
    {
     "name": "stdout",
     "output_type": "stream",
     "text": [
      "Result: [ 2. -2.  9.]\n",
      "Elap time: 0.0013687610626220703 s\n"
     ]
    }
   ],
   "source": [
    "import time\n",
    "\n",
    "from scipy import linalg\n",
    "\n",
    "start_time = time.time()\n",
    "x = linalg.solve(A, b)\n",
    "end_time = time.time()\n",
    "\n",
    "print(f\"Result: {x}\\nElap time: {end_time - start_time} s\")"
   ]
  },
  {
   "cell_type": "code",
   "execution_count": 102,
   "metadata": {},
   "outputs": [
    {
     "name": "stdout",
     "output_type": "stream",
     "text": [
      "Result: [2.0, -2.0, 9.0]\n",
      "Elap time: 0.0031197071075439453 s\n"
     ]
    }
   ],
   "source": [
    "start_time = time.time()\n",
    "x = solve_linear_system(A, b, method=\"jacobi\", tol=1e-15)\n",
    "end_time = time.time()\n",
    "\n",
    "print(f\"Result: {x}\\nElap time: {end_time - start_time} s\")"
   ]
  },
  {
   "cell_type": "code",
   "execution_count": 103,
   "metadata": {},
   "outputs": [
    {
     "name": "stdout",
     "output_type": "stream",
     "text": [
      "Result: [2.0, -2.0, 9.0]\n",
      "Elap time: 0.002160310745239258 s\n"
     ]
    }
   ],
   "source": [
    "start_time = time.time()\n",
    "x = solve_linear_system(A, b, method=\"gauss-seidel\", tol=1e-15)\n",
    "end_time = time.time()\n",
    "\n",
    "print(f\"Result: {x}\\nElap time: {end_time - start_time} s\")"
   ]
  },
  {
   "cell_type": "code",
   "execution_count": 105,
   "metadata": {},
   "outputs": [
    {
     "name": "stdout",
     "output_type": "stream",
     "text": [
      "LAPACK: [ 2.21538462 -2.56923077 -0.16923077]\n",
      "Jacobi: [nan, nan, nan]\n",
      "Gauss-Seidel: [nan, nan, nan]\n"
     ]
    },
    {
     "name": "stderr",
     "output_type": "stream",
     "text": [
      "C:\\Users\\lxavierhays\\AppData\\Local\\Temp\\ipykernel_6804\\3954237897.py:62: UserWarning: Method jacobi did not converge in the tolerance 1e-15. Returning the result of the last iteration.\n",
      "  warnings.warn(\n",
      "C:\\Users\\lxavierhays\\AppData\\Local\\Temp\\ipykernel_6804\\3954237897.py:62: UserWarning: Method gauss-seidel did not converge in the tolerance 1e-15. Returning the result of the last iteration.\n",
      "  warnings.warn(\n"
     ]
    }
   ],
   "source": [
    "A = [[4, 3, -5], [-2, -4, 5], [8, 8, 1]]\n",
    "b = [2, 5, -3]\n",
    "\n",
    "x1 = linalg.solve(A, b)\n",
    "x2 = solve_linear_system(A, b, \"jacobi\", 1e-15)\n",
    "x3 = solve_linear_system(A, b, \"gauss-seidel\", 1e-15)\n",
    "\n",
    "print(f\"LAPACK: {x1}\\nJacobi: {x2}\\nGauss-Seidel: {x3}\")"
   ]
  },
  {
   "cell_type": "markdown",
   "metadata": {},
   "source": [
    "In this example, the iterative methods failed to solve the system. This is because the matrix $A$ is not diagonally dominant. Diagonally dominant means that for every row, the absolute value of the diagonal element should be greater than the sum of the absolute values of the off-diagonal elements."
   ]
  },
  {
   "cell_type": "code",
   "execution_count": null,
   "metadata": {},
   "outputs": [],
   "source": []
  }
 ],
 "metadata": {
  "kernelspec": {
   "display_name": "experiments",
   "language": "python",
   "name": "python3"
  },
  "language_info": {
   "codemirror_mode": {
    "name": "ipython",
    "version": 3
   },
   "file_extension": ".py",
   "mimetype": "text/x-python",
   "name": "python",
   "nbconvert_exporter": "python",
   "pygments_lexer": "ipython3",
   "version": "3.10.12"
  }
 },
 "nbformat": 4,
 "nbformat_minor": 2
}
